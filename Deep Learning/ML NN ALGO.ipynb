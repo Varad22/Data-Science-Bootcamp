{
 "cells": [
  {
   "cell_type": "markdown",
   "metadata": {},
   "source": [
    "### Simple Linear Regression (Minimal example)"
   ]
  },
  {
   "cell_type": "markdown",
   "metadata": {},
   "source": [
    "##### Import relevant Libraries"
   ]
  },
  {
   "cell_type": "code",
   "execution_count": 1,
   "metadata": {},
   "outputs": [],
   "source": [
    "import numpy as np\n",
    "import matplotlib.pyplot as plt\n",
    "from mpl_toolkits.mplot3d import Axes3D"
   ]
  },
  {
   "cell_type": "markdown",
   "metadata": {},
   "source": [
    "##### Generate random input data to train on"
   ]
  },
  {
   "cell_type": "code",
   "execution_count": 2,
   "metadata": {},
   "outputs": [
    {
     "name": "stdout",
     "output_type": "stream",
     "text": [
      "(1000, 2)\n"
     ]
    }
   ],
   "source": [
    "observations = 1000\n",
    "xs = np.random.uniform(low = -10, high = 10, size = (observations,1) )\n",
    "zs = np.random.uniform(-10,10,(observations,1))\n",
    "\n",
    "inputs = np.column_stack((xs,zs))\n",
    "\n",
    "print(inputs.shape)"
   ]
  },
  {
   "cell_type": "markdown",
   "metadata": {},
   "source": [
    " ##### Create the targets we will aim at\n",
    " "
   ]
  },
  {
   "cell_type": "code",
   "execution_count": 3,
   "metadata": {},
   "outputs": [
    {
     "name": "stdout",
     "output_type": "stream",
     "text": [
      "(1000, 1)\n"
     ]
    }
   ],
   "source": [
    "noise = np.random.uniform(-1,1,(observations,1))\n",
    "targets = 2*xs + 3*zs + 5 + noise #random function taken\n",
    "print(targets.shape)"
   ]
  },
  {
   "cell_type": "markdown",
   "metadata": {},
   "source": [
    "##### Plot the training data"
   ]
  },
  {
   "cell_type": "markdown",
   "metadata": {},
   "source": [
    "##### Initialize Variables"
   ]
  },
  {
   "cell_type": "code",
   "execution_count": 4,
   "metadata": {},
   "outputs": [
    {
     "name": "stdout",
     "output_type": "stream",
     "text": [
      "[[-0.06921871]\n",
      " [-0.01190217]]\n",
      "[0.03866643]\n"
     ]
    }
   ],
   "source": [
    "init_range=0.1\n",
    "weights = np.random.uniform(-init_range,init_range,size=(2,1))\n",
    "biases = np.random.uniform(-init_range,init_range,size=1)\n",
    "print(weights)\n",
    "print(biases)"
   ]
  },
  {
   "cell_type": "code",
   "execution_count": 5,
   "metadata": {},
   "outputs": [],
   "source": [
    "lr= 0.02"
   ]
  },
  {
   "cell_type": "markdown",
   "metadata": {},
   "source": [
    "##### Train the model"
   ]
  },
  {
   "cell_type": "code",
   "execution_count": 10,
   "metadata": {
    "scrolled": true
   },
   "outputs": [
    {
     "name": "stdout",
     "output_type": "stream",
     "text": [
      "0.1670010699201698\n",
      "0.1668500131803912\n",
      "0.16670493526108032\n",
      "0.16656559952073247\n",
      "0.16643177868410547\n",
      "0.16630325447150332\n",
      "0.16617981724273273\n",
      "0.16606126565515178\n",
      "0.1659474063352534\n",
      "0.16583805356324716\n",
      "0.1657330289701253\n",
      "0.16563216124671945\n",
      "0.16553528586427171\n",
      "0.16544224480606687\n",
      "0.16535288630968573\n",
      "0.16526706461946042\n",
      "0.16518463974872719\n",
      "0.16510547725148944\n",
      "0.16502944800311872\n",
      "0.1649564279897346\n",
      "0.1648862981059216\n",
      "0.16481894396045269\n",
      "0.16475425568970153\n",
      "0.16469212777844006\n",
      "0.16463245888772954\n",
      "0.1645751516896226\n",
      "0.16452011270840877\n",
      "0.16446725216814287\n",
      "0.16441648384620852\n",
      "0.1643677249326775\n",
      "0.16432089589523577\n",
      "0.1642759203494549\n",
      "0.16423272493420035\n",
      "0.16419123919196804\n",
      "0.16415139545395965\n",
      "0.16411312872970557\n",
      "0.16407637660105662\n",
      "0.16404107912037197\n",
      "0.16400717871273604\n",
      "0.16397462008204647\n",
      "0.16394335012081876\n",
      "0.16391331782356094\n",
      "0.16388447420357619\n",
      "0.1638567722130598\n",
      "0.1638301666663574\n",
      "0.16380461416626133\n",
      "0.1637800730332237\n",
      "0.16375650323737181\n",
      "0.16373386633321385\n",
      "0.16371212539692934\n",
      "0.1636912449661412\n",
      "0.16367119098207203\n",
      "0.16365193073398968\n",
      "0.1636334328058515\n",
      "0.16361566702506097\n",
      "0.16359860441325175\n",
      "0.16358221713902002\n",
      "0.16356647847252812\n",
      "0.16355136274190454\n",
      "0.1635368452913694\n",
      "0.16352290244101778\n",
      "0.16350951144819453\n",
      "0.16349665047039805\n",
      "0.16348429852965213\n",
      "0.16347243547828816\n",
      "0.16346104196608138\n",
      "0.16345009940868863\n",
      "0.16343958995733418\n",
      "0.16342949646969596\n",
      "0.16341980248194488\n",
      "0.16341049218188927\n",
      "0.16340155038318374\n",
      "0.16339296250055757\n",
      "0.16338471452602482\n",
      "0.16337679300603514\n",
      "0.16336918501952902\n",
      "0.16336187815686237\n",
      "0.16335486049956405\n",
      "0.16334812060089557\n",
      "0.16334164746718022\n",
      "0.16333543053987062\n",
      "0.16332945967832604\n",
      "0.16332372514327229\n",
      "0.16331821758091492\n",
      "0.16331292800768274\n",
      "0.16330784779557375\n",
      "0.16330296865808197\n",
      "0.16329828263668128\n",
      "0.1632937820878434\n",
      "0.1632894596705707\n",
      "0.16328530833442234\n",
      "0.1632813213080132\n",
      "0.16327749208796968\n",
      "0.16327381442832126\n",
      "0.16327028233031296\n",
      "0.16326689003261993\n",
      "0.16326363200195085\n",
      "0.16326050292402144\n",
      "0.1632574976948869\n",
      "0.1632546114126161\n"
     ]
    }
   ],
   "source": [
    " for i in range(100):\n",
    "        outputs= np.dot(inputs,weights) + biases\n",
    "        deltas= outputs-targets\n",
    "        \n",
    "        loss= np.sum(deltas**2)/2/observations # /2 doesnt change anything /observations gives us lose per obs\n",
    "        \n",
    "        print(loss)\n",
    "        \n",
    "        deltas_scaled = deltas/observations\n",
    "        \n",
    "        weights= weights - lr*np.dot(inputs.T,deltas_scaled)\n",
    "        biases= biases - lr*np.sum(deltas_scaled)"
   ]
  },
  {
   "cell_type": "code",
   "execution_count": 11,
   "metadata": {},
   "outputs": [
    {
     "name": "stdout",
     "output_type": "stream",
     "text": [
      "[[1.99872448]\n",
      " [2.99425155]] [4.98810468]\n"
     ]
    }
   ],
   "source": [
    "print (weights,biases)"
   ]
  },
  {
   "cell_type": "markdown",
   "metadata": {},
   "source": [
    "##### Plot last output and targets"
   ]
  },
  {
   "cell_type": "code",
   "execution_count": 13,
   "metadata": {},
   "outputs": [
    {
     "data": {
      "image/png": "[encoded data removed]",
      "text/plain": [
       "<Figure size 432x288 with 1 Axes>"
      ]
     },
     "metadata": {
      "needs_background": "light"
     },
     "output_type": "display_data"
    }
   ],
   "source": [
    "plt.plot(outputs,targets)\n",
    "plt.xlabel(\"outputs\")\n",
    "plt.ylabel(\"targets\")\n",
    "plt.show()\n",
    "# measure of line close to 45 shows the extent of accuracy between outputs and targets\n"
   ]
  },
  {
   "cell_type": "code",
   "execution_count": 14,
   "metadata": {},
   "outputs": [],
   "source": [
    "import tensorflow as tf"
   ]
  },
  {
   "cell_type": "code",
   "execution_count": 15,
   "metadata": {},
   "outputs": [
    {
     "name": "stdout",
     "output_type": "stream",
     "text": [
      "1.13.1\n"
     ]
    }
   ],
   "source": [
    "print(tf.__version__)"
   ]
  },
  {
   "cell_type": "code",
   "execution_count": null,
   "metadata": {},
   "outputs": [],
   "source": []
  }
 ],
 "metadata": {
  "kernelspec": {
   "display_name": "Python 3",
   "language": "python",
   "name": "python3"
  },
  "language_info": {
   "codemirror_mode": {
    "name": "ipython",
    "version": 3
   },
   "file_extension": ".py",
   "mimetype": "text/x-python",
   "name": "python",
   "nbconvert_exporter": "python",
   "pygments_lexer": "ipython3",
   "version": "3.7.7"
  }
 },
 "nbformat": 4,
 "nbformat_minor": 2
}
