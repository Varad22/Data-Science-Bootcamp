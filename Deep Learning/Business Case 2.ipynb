{
 "cells": [
  {
   "cell_type": "code",
   "execution_count": 1,
   "metadata": {},
   "outputs": [],
   "source": [
    "import numpy as np\n",
    "import tensorflow as tf\n"
   ]
  },
  {
   "cell_type": "markdown",
   "metadata": {},
   "source": [
    "##### Data"
   ]
  },
  {
   "cell_type": "code",
   "execution_count": 2,
   "metadata": {},
   "outputs": [],
   "source": [
    "npz = np.load(\"Audiobooks_data_train.npz\")\n",
    "\n",
    "train_inputs = npz['inputs'].astype(np.float)\n",
    "train_targets = npz['targets'].astype(np.int)\n",
    "\n",
    "npz = np.load(\"Audiobooks_data_validation.npz\")\n",
    "validation_inputs, validation_targets= npz['inputs'].astype(np.float), npz['targets'].astype(np.int)\n",
    "\n",
    "npz = np.load(\"Audiobooks_data_target.npz\")\n",
    "test_inputs, test_targets= npz['inputs'].astype(np.float), npz['targets'].astype(np.int)"
   ]
  },
  {
   "cell_type": "markdown",
   "metadata": {},
   "source": [
    "##### Model"
   ]
  },
  {
   "cell_type": "code",
   "execution_count": 10,
   "metadata": {},
   "outputs": [
    {
     "name": "stdout",
     "output_type": "stream",
     "text": [
      "Train on 3579 samples, validate on 447 samples\n",
      "Epoch 1/100\n",
      "3579/3579 - 1s - loss: 0.5965 - accuracy: 0.6929 - val_loss: 0.5216 - val_accuracy: 0.7204\n",
      "Epoch 2/100\n",
      "3579/3579 - 0s - loss: 0.4840 - accuracy: 0.7597 - val_loss: 0.4385 - val_accuracy: 0.7785\n",
      "Epoch 3/100\n",
      "3579/3579 - 0s - loss: 0.4256 - accuracy: 0.7784 - val_loss: 0.3984 - val_accuracy: 0.7875\n",
      "Epoch 4/100\n",
      "3579/3579 - 0s - loss: 0.3951 - accuracy: 0.7910 - val_loss: 0.3929 - val_accuracy: 0.7942\n",
      "Epoch 5/100\n",
      "3579/3579 - 0s - loss: 0.3782 - accuracy: 0.7902 - val_loss: 0.3634 - val_accuracy: 0.8121\n",
      "Epoch 6/100\n",
      "3579/3579 - 0s - loss: 0.3661 - accuracy: 0.8019 - val_loss: 0.3610 - val_accuracy: 0.8054\n",
      "Epoch 7/100\n",
      "3579/3579 - 0s - loss: 0.3560 - accuracy: 0.8069 - val_loss: 0.3658 - val_accuracy: 0.8255\n",
      "Epoch 8/100\n",
      "3579/3579 - 0s - loss: 0.3503 - accuracy: 0.8103 - val_loss: 0.3524 - val_accuracy: 0.8098\n",
      "Epoch 9/100\n",
      "3579/3579 - 0s - loss: 0.3453 - accuracy: 0.8173 - val_loss: 0.3426 - val_accuracy: 0.8255\n",
      "Epoch 10/100\n",
      "3579/3579 - 0s - loss: 0.3421 - accuracy: 0.8134 - val_loss: 0.3379 - val_accuracy: 0.8277\n",
      "Epoch 11/100\n",
      "3579/3579 - 0s - loss: 0.3389 - accuracy: 0.8148 - val_loss: 0.3280 - val_accuracy: 0.8367\n",
      "Epoch 12/100\n",
      "3579/3579 - 0s - loss: 0.3336 - accuracy: 0.8161 - val_loss: 0.3543 - val_accuracy: 0.8233\n",
      "Epoch 13/100\n",
      "3579/3579 - 0s - loss: 0.3333 - accuracy: 0.8181 - val_loss: 0.3313 - val_accuracy: 0.8523\n"
     ]
    },
    {
     "data": {
      "text/plain": [
       "<tensorflow.python.keras.callbacks.History at 0x2457e9b78c8>"
      ]
     },
     "execution_count": 10,
     "metadata": {},
     "output_type": "execute_result"
    }
   ],
   "source": [
    "input_size = 10\n",
    "output_size = 2\n",
    "hidden_layer_size = 50\n",
    "\n",
    "model = tf.keras.Sequential([\n",
    "                            tf.keras.layers.Dense(hidden_layer_size, activation='relu'),\n",
    "                            tf.keras.layers.Dense(hidden_layer_size, activation='relu'),\n",
    "                            tf.keras.layers.Dense(output_size, activation='softmax')\n",
    "                           ])\n",
    "\n",
    "model.compile(optimizer='adam', loss='sparse_categorical_crossentropy', metrics=['accuracy'])\n",
    "\n",
    "BATCH_SIZE = 100\n",
    "MAX_EPOCHS = 100\n",
    "EARLY_STOPPING = tf.keras.callbacks.EarlyStopping(patience=2)\n",
    "\n",
    "model.fit(train_inputs, \n",
    "          train_targets, \n",
    "          batch_size = BATCH_SIZE, \n",
    "          callbacks = [EARLY_STOPPING],\n",
    "          epochs= MAX_EPOCHS,\n",
    "          validation_data=(validation_inputs, validation_targets),\n",
    "          verbose=2)"
   ]
  },
  {
   "cell_type": "markdown",
   "metadata": {},
   "source": [
    "##### Test "
   ]
  },
  {
   "cell_type": "code",
   "execution_count": 11,
   "metadata": {},
   "outputs": [
    {
     "name": "stdout",
     "output_type": "stream",
     "text": [
      "448/448 [==============================] - 0s 467us/sample - loss: 0.3574 - accuracy: 0.8237\n"
     ]
    }
   ],
   "source": [
    "test_loss, test_accuracy = model.evaluate(test_inputs, test_targets) "
   ]
  },
  {
   "cell_type": "code",
   "execution_count": null,
   "metadata": {},
   "outputs": [],
   "source": []
  }
 ],
 "metadata": {
  "kernelspec": {
   "display_name": "py3-TF2.0Kernel",
   "language": "python",
   "name": "py3-tf2.0"
  },
  "language_info": {
   "codemirror_mode": {
    "name": "ipython",
    "version": 3
   },
   "file_extension": ".py",
   "mimetype": "text/x-python",
   "name": "python",
   "nbconvert_exporter": "python",
   "pygments_lexer": "ipython3",
   "version": "3.7.7"
  }
 },
 "nbformat": 4,
 "nbformat_minor": 4
}
